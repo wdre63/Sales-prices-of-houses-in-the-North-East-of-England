{
 "cells": [
  {
   "cell_type": "code",
   "execution_count": 18,
   "outputs": [],
   "source": [
    "### Importing Packages\n",
    "import pandas as pd\n",
    "import numpy as np\n",
    "\n",
    "from sklearn.model_selection import train_test_split\n",
    "from statsmodels.stats.outliers_influence import variance_inflation_factor\n",
    "from sklearn.preprocessing import StandardScaler\n",
    "\n",
    "import statsmodels.api as sm\n",
    "import statsmodels.tools"
   ],
   "metadata": {
    "collapsed": false
   }
  },
  {
   "cell_type": "code",
   "execution_count": 19,
   "outputs": [],
   "source": [
    "### Reading in the file saved from the EDA notebook (after cleaning too)\n",
    "# Deleting the 'Unnamed' column again\n",
    "df = pd.read_csv('eda_cleaned_data.csv')\n",
    "df.drop(columns = ['Unnamed: 0'], inplace = True)"
   ],
   "metadata": {
    "collapsed": false
   }
  },
  {
   "cell_type": "code",
   "execution_count": 20,
   "outputs": [],
   "source": [
    "### Reducing the price to 150,000-250,000 for this model\n",
    "df = df[df['price'] >= 250000]\n",
    "df = df[df['price'] < 350000]"
   ],
   "metadata": {
    "collapsed": false
   }
  },
  {
   "cell_type": "code",
   "execution_count": 21,
   "outputs": [],
   "source": [
    "### Reducing the number of bedrooms to just 2,3 and 4 for this model\n",
    "del_beds = [1,5, 6, 7, 8, 9]\n",
    "df = df[~df['bedroom'].isin(del_beds)]"
   ],
   "metadata": {
    "collapsed": false
   }
  },
  {
   "cell_type": "markdown",
   "source": [
    "<font size=\"6\"><font color='orange'>Prepping categorical data for modelling (Feature engineering)</font>"
   ],
   "metadata": {
    "collapsed": false
   }
  },
  {
   "cell_type": "code",
   "execution_count": 22,
   "outputs": [],
   "source": [
    "### Feature Engineering Function\n",
    "# Non-numeric columns ('house_type' and 'postcode') are One-Hot Encoded\n",
    "\n",
    "\n",
    "def feature_eng(df):\n",
    "    ''' Feature Engineer Function - One Hot encoding of house_type and postcode'''\n",
    "    df = pd.get_dummies(df, columns = ['house_type'], drop_first = True, prefix = 'type')\n",
    "    df.drop(columns = ['property_no'], inplace = True)\n",
    "    df.drop(columns = ['postcode'], inplace = True)\n",
    "    df.drop(columns = ['longitude'], inplace = True)\n",
    "    df.drop(columns = ['latitude'], inplace = True)\n",
    "\n",
    "    df = sm.add_constant(df)\n",
    "\n",
    "    return df"
   ],
   "metadata": {
    "collapsed": false
   }
  },
  {
   "cell_type": "markdown",
   "source": [
    "<font size=\"6\"><font color='orange'>Model</font>"
   ],
   "metadata": {
    "collapsed": false
   }
  },
  {
   "cell_type": "code",
   "execution_count": 23,
   "outputs": [],
   "source": [
    "### Train / Test Splitting\n",
    "feature_cols = list(df.columns)        ## Columns from Dataframe set to Feature Columns for Model Testing\n",
    "feature_cols.remove('price')            ## Removing the dependent variable, price\n",
    "\n",
    "X = df[feature_cols]\n",
    "y = df['price']\n",
    "\n",
    "X_train, X_test, y_train, y_test = train_test_split(X, y, test_size = 0.2, random_state = 42)  ## Splitting Dataframe data into separate train and test dataframes\n",
    "\n"
   ],
   "metadata": {
    "collapsed": false
   }
  },
  {
   "cell_type": "code",
   "execution_count": 24,
   "outputs": [],
   "source": [
    "## Apply feature engineering function X_Train Dataframe\n",
    "X_train = feature_eng(X_train)"
   ],
   "metadata": {
    "collapsed": false
   }
  },
  {
   "cell_type": "code",
   "execution_count": 25,
   "outputs": [
    {
     "data": {
      "text/plain": "array([0.53942711])"
     },
     "execution_count": 25,
     "metadata": {},
     "output_type": "execute_result"
    }
   ],
   "source": [
    "## Scale mileage and age_log using MinMax Scaler\n",
    "scaler = StandardScaler()\n",
    "X_train[['bedroom']] = scaler.fit_transform(X_train[['bedroom']])          ## Fitting the model to X-train data\n",
    "scaler.scale_       ## Scaling factors to be implemented in the function"
   ],
   "metadata": {
    "collapsed": false
   }
  },
  {
   "cell_type": "code",
   "execution_count": 26,
   "outputs": [
    {
     "data": {
      "text/plain": "array([4.85907366])"
     },
     "execution_count": 26,
     "metadata": {},
     "output_type": "execute_result"
    }
   ],
   "source": [
    "## Scale mileage and age_log using MinMax Scaler\n",
    "scaler = StandardScaler()\n",
    "X_train[['distance']] = scaler.fit_transform(X_train[['distance']])         ## Fitting the model to X-train data\n",
    "scaler.scale_       ## Scaling factors to be implemented in the function"
   ],
   "metadata": {
    "collapsed": false
   }
  },
  {
   "cell_type": "code",
   "execution_count": 27,
   "outputs": [
    {
     "data": {
      "text/plain": "Index(['const', 'bedroom', 'distance', 'type_Semi-Detached', 'type_Terraced'], dtype='object')"
     },
     "execution_count": 27,
     "metadata": {},
     "output_type": "execute_result"
    }
   ],
   "source": [
    "# Checking what columns to put into the feature_cols\n",
    "X_train.columns"
   ],
   "metadata": {
    "collapsed": false
   }
  },
  {
   "cell_type": "code",
   "execution_count": 28,
   "outputs": [],
   "source": [
    "# Craeting a constant column (this is a failsafe as sometimes the const column wasn't auto-created)\n",
    "X_train['const'] = 1"
   ],
   "metadata": {
    "collapsed": false
   }
  },
  {
   "cell_type": "code",
   "execution_count": 29,
   "outputs": [
    {
     "name": "stdout",
     "output_type": "stream",
     "text": [
      "                            OLS Regression Results                            \n",
      "==============================================================================\n",
      "Dep. Variable:                  price   R-squared:                       0.212\n",
      "Model:                            OLS   Adj. R-squared:                  0.203\n",
      "Method:                 Least Squares   F-statistic:                     23.84\n",
      "Date:                Fri, 23 Dec 2022   Prob (F-statistic):           1.78e-17\n",
      "Time:                        13:19:52   Log-Likelihood:                -4146.9\n",
      "No. Observations:                 359   AIC:                             8304.\n",
      "Df Residuals:                     354   BIC:                             8323.\n",
      "Df Model:                           4                                         \n",
      "Covariance Type:            nonrobust                                         \n",
      "======================================================================================\n",
      "                         coef    std err          t      P>|t|      [0.025      0.975]\n",
      "--------------------------------------------------------------------------------------\n",
      "const               2.976e+05   1875.654    158.680      0.000    2.94e+05    3.01e+05\n",
      "bedroom             9374.7475   1445.561      6.485      0.000    6531.780    1.22e+04\n",
      "distance            5988.4870   1339.373      4.471      0.000    3354.358    8622.616\n",
      "type_Semi-Detached -1.008e+04   3054.368     -3.299      0.001   -1.61e+04   -4070.319\n",
      "type_Terraced       4019.5219   4964.814      0.810      0.419   -5744.717    1.38e+04\n",
      "==============================================================================\n",
      "Omnibus:                        8.852   Durbin-Watson:                   2.023\n",
      "Prob(Omnibus):                  0.012   Jarque-Bera (JB):                6.090\n",
      "Skew:                           0.183   Prob(JB):                       0.0476\n",
      "Kurtosis:                       2.478   Cond. No.                         4.26\n",
      "==============================================================================\n",
      "\n",
      "Notes:\n",
      "[1] Standard Errors assume that the covariance matrix of the errors is correctly specified.\n",
      "\n",
      " Rmse:  25144.80058910681\n"
     ]
    }
   ],
   "source": [
    "### Linear Regression\n",
    "feature_cols = ['const','bedroom', 'distance', 'type_Semi-Detached', 'type_Terraced']\n",
    "\n",
    "\n",
    "                ## Final Features to be used in the model\n",
    "\n",
    "\n",
    "lin_reg = sm.OLS(y_train, X_train[feature_cols].astype(float))          ## Stats Model Linear Regression\n",
    "results = lin_reg.fit()\n",
    "print(results.summary())\n",
    "\n",
    "\n",
    "X_train['y_pred'] = results.predict(X_train[feature_cols])\n",
    "X_train['y_pred'] = X_train['y_pred'].astype('float')\n",
    "rmse = statsmodels.tools.eval_measures.rmse(y_train, X_train['y_pred']) ## RMSE of the Model\n",
    "\n",
    "print('\\n', 'Rmse: ', rmse)"
   ],
   "metadata": {
    "collapsed": false
   }
  },
  {
   "cell_type": "code",
   "execution_count": 30,
   "outputs": [
    {
     "data": {
      "text/plain": "             Features   VIF\n0               const  1.97\n3  type_Semi-Detached  1.21\n1             bedroom  1.17\n4       type_Terraced  1.12\n2            distance  1.00",
      "text/html": "<div>\n<style scoped>\n    .dataframe tbody tr th:only-of-type {\n        vertical-align: middle;\n    }\n\n    .dataframe tbody tr th {\n        vertical-align: top;\n    }\n\n    .dataframe thead th {\n        text-align: right;\n    }\n</style>\n<table border=\"1\" class=\"dataframe\">\n  <thead>\n    <tr style=\"text-align: right;\">\n      <th></th>\n      <th>Features</th>\n      <th>VIF</th>\n    </tr>\n  </thead>\n  <tbody>\n    <tr>\n      <th>0</th>\n      <td>const</td>\n      <td>1.97</td>\n    </tr>\n    <tr>\n      <th>3</th>\n      <td>type_Semi-Detached</td>\n      <td>1.21</td>\n    </tr>\n    <tr>\n      <th>1</th>\n      <td>bedroom</td>\n      <td>1.17</td>\n    </tr>\n    <tr>\n      <th>4</th>\n      <td>type_Terraced</td>\n      <td>1.12</td>\n    </tr>\n    <tr>\n      <th>2</th>\n      <td>distance</td>\n      <td>1.00</td>\n    </tr>\n  </tbody>\n</table>\n</div>"
     },
     "execution_count": 30,
     "metadata": {},
     "output_type": "execute_result"
    }
   ],
   "source": [
    "### VIF\n",
    "def checkVIF(X):\n",
    "    '''Function to calculate the VIF of a dataframe '''\n",
    "    vif = pd.DataFrame()                ## Initialising an empty dataframe\n",
    "    vif['Features'] = feature_cols      ## The features used in training\n",
    "    vif['VIF'] = [variance_inflation_factor(X[feature_cols].values, i) for i in range(X[feature_cols].shape[1])]\n",
    "    vif['VIF'] = round(vif['VIF'], 2)   ## Round VIF to 2 decimal places for readability\n",
    "    vif = vif.sort_values(by = \"VIF\", ascending = False)    ## Sorting VIF values in descending order to observe feature VIF scores\n",
    "    return vif\n",
    "checkVIF(X_train)   ## If VIF >= 5, test to see if the removal of said feature reduces the multi-co-linearity"
   ],
   "metadata": {
    "collapsed": false
   }
  },
  {
   "cell_type": "markdown",
   "source": [
    "<font size=\"6\"><font color='orange'>Testing the model</font>"
   ],
   "metadata": {
    "collapsed": false
   }
  },
  {
   "cell_type": "code",
   "execution_count": 31,
   "outputs": [],
   "source": [
    "## Apply feature engineering function X_Train Dataframe\n",
    "X_test = feature_eng(X_test)"
   ],
   "metadata": {
    "collapsed": false
   }
  },
  {
   "cell_type": "code",
   "execution_count": 32,
   "outputs": [
    {
     "data": {
      "text/plain": "array([0.54160256])"
     },
     "execution_count": 32,
     "metadata": {},
     "output_type": "execute_result"
    }
   ],
   "source": [
    "## Scale mileage and age_log using MinMax Scaler\n",
    "scaler = StandardScaler()\n",
    "X_test[['bedroom']] = scaler.fit_transform(X_test[['bedroom']])  ## Fitting the model to X-train data\n",
    "scaler.scale_  ## Scaling factors to be implemented in the function"
   ],
   "metadata": {
    "collapsed": false
   }
  },
  {
   "cell_type": "code",
   "execution_count": 33,
   "outputs": [
    {
     "data": {
      "text/plain": "array([5.03481504])"
     },
     "execution_count": 33,
     "metadata": {},
     "output_type": "execute_result"
    }
   ],
   "source": [
    "## Scale mileage and age_log using MinMax Scaler\n",
    "scaler = StandardScaler()\n",
    "X_test[['distance']] = scaler.fit_transform(X_test[['distance']])  ## Fitting the model to X-train data\n",
    "scaler.scale_  ## Scaling factors to be implemented in the function"
   ],
   "metadata": {
    "collapsed": false
   }
  },
  {
   "cell_type": "code",
   "execution_count": 34,
   "outputs": [
    {
     "name": "stdout",
     "output_type": "stream",
     "text": [
      "                            OLS Regression Results                            \n",
      "==============================================================================\n",
      "Dep. Variable:                  price   R-squared:                       0.168\n",
      "Model:                            OLS   Adj. R-squared:                  0.129\n",
      "Method:                 Least Squares   F-statistic:                     4.302\n",
      "Date:                Fri, 23 Dec 2022   Prob (F-statistic):            0.00323\n",
      "Time:                        13:19:52   Log-Likelihood:                -1047.0\n",
      "No. Observations:                  90   AIC:                             2104.\n",
      "Df Residuals:                      85   BIC:                             2117.\n",
      "Df Model:                           4                                         \n",
      "Covariance Type:            nonrobust                                         \n",
      "======================================================================================\n",
      "                         coef    std err          t      P>|t|      [0.025      0.975]\n",
      "--------------------------------------------------------------------------------------\n",
      "const               2.893e+05   4146.297     69.764      0.000    2.81e+05    2.98e+05\n",
      "bedroom             1.316e+04   3449.183      3.815      0.000    6300.426       2e+04\n",
      "distance            3238.3814   2987.770      1.084      0.281   -2702.105    9178.868\n",
      "type_Semi-Detached  5931.4886   7166.982      0.828      0.410   -8318.391    2.02e+04\n",
      "type_Terraced       4376.5434   1.32e+04      0.331      0.741   -2.19e+04    3.07e+04\n",
      "==============================================================================\n",
      "Omnibus:                        5.738   Durbin-Watson:                   1.816\n",
      "Prob(Omnibus):                  0.057   Jarque-Bera (JB):                2.789\n",
      "Skew:                           0.144   Prob(JB):                        0.248\n",
      "Kurtosis:                       2.187   Cond. No.                         5.01\n",
      "==============================================================================\n",
      "\n",
      "Notes:\n",
      "[1] Standard Errors assume that the covariance matrix of the errors is correctly specified.\n",
      "\n",
      " Rmse:  27302.235781056926\n"
     ]
    }
   ],
   "source": [
    "X_train['const'] = 1\n",
    "### Linear Regression (with postcode)\n",
    "feature_cols = ['const', 'bedroom', 'distance', 'type_Semi-Detached', 'type_Terraced']\n",
    "\n",
    "## Final Features to be used in the model\n",
    "\n",
    "\n",
    "lin_reg = sm.OLS(y_test, X_test[feature_cols].astype(float))  ## Stats Model Linear Regression\n",
    "results = lin_reg.fit()\n",
    "print(results.summary())\n",
    "\n",
    "X_test['y_pred'] = results.predict(X_test[feature_cols])\n",
    "X_test['y_pred'] = X_test['y_pred'].astype('float')\n",
    "rmse = statsmodels.tools.eval_measures.rmse(y_test, X_test['y_pred'])  ## RMSE of the Model\n",
    "\n",
    "print('\\n', 'Rmse: ', rmse)"
   ],
   "metadata": {
    "collapsed": false
   }
  }
 ],
 "metadata": {
  "kernelspec": {
   "display_name": "Python 3",
   "language": "python",
   "name": "python3"
  },
  "language_info": {
   "codemirror_mode": {
    "name": "ipython",
    "version": 2
   },
   "file_extension": ".py",
   "mimetype": "text/x-python",
   "name": "python",
   "nbconvert_exporter": "python",
   "pygments_lexer": "ipython2",
   "version": "2.7.6"
  }
 },
 "nbformat": 4,
 "nbformat_minor": 0
}
