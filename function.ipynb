{
 "cells": [
  {
   "cell_type": "code",
   "execution_count": 10,
   "outputs": [],
   "source": [
    "import numpy as np\n",
    "import re\n",
    "from geopy.geocoders import Nominatim\n",
    "import geopy.distance"
   ],
   "metadata": {
    "collapsed": false
   }
  },
  {
   "cell_type": "code",
   "execution_count": 11,
   "outputs": [],
   "source": [
    "### Function ###\n",
    "\n",
    "def house(house_type, bedrooms,postcode, your_price):\n",
    "\n",
    "    ## lowering the strings and stripping\n",
    "    house_type = house_type.lower().strip()\n",
    "    postcode = postcode.lower().strip()\n",
    "    postcode = postcode.replace(' ', '')\n",
    "\n",
    "    bedrooms = int(bedrooms)\n",
    "\n",
    "    if your_price == 'lower':\n",
    "        b0 = 2.136e+05\n",
    "        b1 = 7798.6318\n",
    "        b2 = 3291.3651\n",
    "        b3 = -1.355e+04\n",
    "        b4 = -2.222e+04\n",
    "    elif your_price == 'upper':\n",
    "        b0 = 2.973e+05\n",
    "        b1 = 6315.1567\n",
    "        b2 = 5513.2136\n",
    "        b3 = -1.19e+04\n",
    "        b4 = -4263.0068\n",
    "    else:\n",
    "        print('You must input \"lower\" or \"upper\"!')\n",
    "\n",
    "    ## Scaling the bedrooms depending on the model used\n",
    "\n",
    "\n",
    "    if your_price == 'lower':\n",
    "        bedrooms = bedrooms * 0.460977\n",
    "    elif your_price == 'upper':\n",
    "        bedrooms = bedrooms * 0.541603\n",
    "\n",
    "    ## Error handling for house house_type\n",
    "\n",
    "    house_list = ['detached','semi-detached','terraced']\n",
    "    if house_type not in house_list:\n",
    "        return Exception ('This is not a vlaid house type')\n",
    "\n",
    "\n",
    "    ## Finding the distance from the postcode to the centre of the town/city\n",
    "\n",
    "    loc = Nominatim(user_agent=\"GetLoc\")\n",
    "\n",
    "    # Newcastle\n",
    "    if re.match('((ne)\\S{4})', postcode):\n",
    "        getLoc = loc.geocode(postcode)\n",
    "        try:\n",
    "            longitude = (getLoc.longitude)\n",
    "        except Exception as e:\n",
    "            print('This postcode does not exist')\n",
    "        latitude = (getLoc.latitude)\n",
    "\n",
    "        centre_coor = (54.967517, -1.615484)\n",
    "\n",
    "        distance = (geopy.distance.geodesic(centre_coor, (latitude,longitude)).km)\n",
    "        if distance is None:\n",
    "            return ('This postcode does not exist')\n",
    "\n",
    "    # Sunderland\n",
    "    elif re.match('((sr)\\S{4})', postcode):\n",
    "        getLoc = loc.geocode(postcode)\n",
    "        try:\n",
    "            longitude = (getLoc.longitude)\n",
    "        except Exception as e:\n",
    "            print('This postcode does not exist')\n",
    "        latitude = (getLoc.latitude)\n",
    "\n",
    "        centre_coor = (54.908542, -1.379728)\n",
    "\n",
    "        distance = (geopy.distance.geodesic(centre_coor, (latitude,longitude)).km)\n",
    "        if distance is None:\n",
    "            return ('This postcode does not exist')\n",
    "\n",
    "    # Middlesbrough\n",
    "    elif re.match('((ts)\\S{4})', postcode):\n",
    "        getLoc = loc.geocode(postcode)\n",
    "        try:\n",
    "            longitude = (getLoc.longitude)\n",
    "        except Exception as e:\n",
    "            print('This postcode does not exist')\n",
    "        latitude = (getLoc.latitude)\n",
    "\n",
    "        centre_coor = (54.575852, -1.244942)\n",
    "\n",
    "        distance = (geopy.distance.geodesic(centre_coor, (latitude,longitude)).km)\n",
    "        if distance is None:\n",
    "            return ('This postcode does not exist')\n",
    "\n",
    "    ## Scaling the distance depending on the model used\n",
    "\n",
    "    if your_price == 'lower':\n",
    "        distance = distance * 4.801368\n",
    "    elif your_price == 'upper':\n",
    "        distance = distance * 5.034815\n",
    "\n",
    "\n",
    "    ## inputting the x3 and x4 values for the house type\n",
    "    if house_type == 'semi-detached':\n",
    "        x3 = 1\n",
    "    else:\n",
    "        x3 = 0\n",
    "    if house_type == 'terraced':\n",
    "        x4 = 1\n",
    "    else:\n",
    "        x4 = 0\n",
    "\n",
    "    ## implementing everything into the equation\n",
    "\n",
    "    y = b0 + bedrooms*b1 + distance*b2 + x3*b3 + x4*b4\n",
    "    y = round(y,2)\n",
    "\n",
    "    return f'£{y}'"
   ],
   "metadata": {
    "collapsed": false
   }
  },
  {
   "cell_type": "code",
   "execution_count": 12,
   "outputs": [
    {
     "data": {
      "text/plain": "'£319532.01'"
     },
     "execution_count": 12,
     "metadata": {},
     "output_type": "execute_result"
    }
   ],
   "source": [
    "### These are the user inputs\n",
    "house_type = input('Enter your house type (detached, semi-detached or terraced):')\n",
    "bedrooms = input('Enter the number of bedrooms of your house:')\n",
    "postcode = input('Enter your postcode:')\n",
    "your_price = input('Enter price estimate (lower for 150000-249999, upper for 250000-350000):')\n",
    "\n",
    "# The function\n",
    "house(house_type, bedrooms, postcode, your_price)\n"
   ],
   "metadata": {
    "collapsed": false
   }
  },
  {
   "cell_type": "code",
   "execution_count": null,
   "outputs": [],
   "source": [],
   "metadata": {
    "collapsed": false
   }
  }
 ],
 "metadata": {
  "kernelspec": {
   "display_name": "Python 3",
   "language": "python",
   "name": "python3"
  },
  "language_info": {
   "codemirror_mode": {
    "name": "ipython",
    "version": 2
   },
   "file_extension": ".py",
   "mimetype": "text/x-python",
   "name": "python",
   "nbconvert_exporter": "python",
   "pygments_lexer": "ipython2",
   "version": "2.7.6"
  }
 },
 "nbformat": 4,
 "nbformat_minor": 0
}
