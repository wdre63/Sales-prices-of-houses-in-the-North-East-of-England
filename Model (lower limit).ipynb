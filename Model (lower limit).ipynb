{
 "cells": [
  {
   "cell_type": "code",
   "execution_count": 18,
   "outputs": [],
   "source": [
    "### Importing Packages\n",
    "import pandas as pd\n",
    "import numpy as np\n",
    "\n",
    "from sklearn.model_selection import train_test_split\n",
    "from statsmodels.stats.outliers_influence import variance_inflation_factor\n",
    "from sklearn.preprocessing import StandardScaler\n",
    "\n",
    "import statsmodels.api as sm\n",
    "import statsmodels.tools"
   ],
   "metadata": {
    "collapsed": false
   }
  },
  {
   "cell_type": "code",
   "execution_count": 19,
   "outputs": [],
   "source": [
    "### Reading in the file saved from the EDA notebook (after cleaning too)\n",
    "# Deleting the 'Unnamed' column again\n",
    "df = pd.read_csv('eda_cleaned_data.csv')\n",
    "df.drop(columns = ['Unnamed: 0'], inplace = True)"
   ],
   "metadata": {
    "collapsed": false
   }
  },
  {
   "cell_type": "code",
   "execution_count": 20,
   "outputs": [],
   "source": [
    "### Reducing the price to 150,000-250,000 for this model\n",
    "# Reducing the number of bedrooms to just 2,3 and 4 for this model\n",
    "df = df[df['price'] < 250000]\n",
    "df = df[df['price'] > 150000]\n",
    "del_beds = [1,5, 6, 7, 8, 9]\n",
    "df = df[~df['bedroom'].isin(del_beds)]"
   ],
   "metadata": {
    "collapsed": false
   }
  },
  {
   "cell_type": "code",
   "execution_count": 21,
   "outputs": [
    {
     "data": {
      "text/plain": "3    575\n4    117\n2    108\nName: bedroom, dtype: int64"
     },
     "execution_count": 21,
     "metadata": {},
     "output_type": "execute_result"
    }
   ],
   "source": [
    "df['bedroom'].value_counts()"
   ],
   "metadata": {
    "collapsed": false
   }
  },
  {
   "cell_type": "markdown",
   "source": [
    "<font size=\"6\"><font color='orange'>Prepping categorical data for modelling (Feature engineering)</font>"
   ],
   "metadata": {
    "collapsed": false
   }
  },
  {
   "cell_type": "code",
   "execution_count": 22,
   "outputs": [],
   "source": [
    "### Feature Engineering Function\n",
    "# Non-numeric columns ('house_type' and 'postcode') are One-Hot Encoded\n",
    "\n",
    "\n",
    "def feature_eng(df):\n",
    "    ''' Feature Engineer Function - One Hot encoding of house_type and postcode'''\n",
    "    df = pd.get_dummies(df, columns = ['house_type'], drop_first = True, prefix = 'type')\n",
    "    df.drop(columns = ['property_no'], inplace = True)\n",
    "    df.drop(columns = ['postcode'], inplace = True)\n",
    "    df.drop(columns = ['longitude'], inplace = True)\n",
    "    df.drop(columns = ['latitude'], inplace = True)\n",
    "\n",
    "    df = sm.add_constant(df)\n",
    "\n",
    "    return df"
   ],
   "metadata": {
    "collapsed": false
   }
  },
  {
   "cell_type": "markdown",
   "source": [
    "<font size=\"6\"><font color='orange'>Model</font>"
   ],
   "metadata": {
    "collapsed": false
   }
  },
  {
   "cell_type": "code",
   "execution_count": 23,
   "outputs": [],
   "source": [
    "### Train / Test Splitting\n",
    "feature_cols = list(df.columns)        ## Columns from Dataframe set to Feature Columns for Model Testing\n",
    "feature_cols.remove('price')            ## Removing the dependent variable, price\n",
    "\n",
    "X = df[feature_cols]\n",
    "y = df['price']\n",
    "\n",
    "X_train, X_test, y_train, y_test = train_test_split(X, y, test_size = 0.2, random_state = 42)  ## Splitting Dataframe data into separate train and test dataframes\n",
    "\n"
   ],
   "metadata": {
    "collapsed": false
   }
  },
  {
   "cell_type": "code",
   "execution_count": 24,
   "outputs": [],
   "source": [
    "## Apply feature engineering function X_Train Dataframe\n",
    "X_train = feature_eng(X_train)"
   ],
   "metadata": {
    "collapsed": false
   }
  },
  {
   "cell_type": "code",
   "execution_count": 25,
   "outputs": [
    {
     "data": {
      "text/plain": "array([0.54611331])"
     },
     "execution_count": 25,
     "metadata": {},
     "output_type": "execute_result"
    }
   ],
   "source": [
    "## Scale mileage and age_log using MinMax Scaler\n",
    "scaler = StandardScaler()\n",
    "X_train[['bedroom']] = scaler.fit_transform(X_train[['bedroom']])          ## Fitting the model to X-train data\n",
    "scaler.scale_       ## Scaling factors to be implemented in the function"
   ],
   "metadata": {
    "collapsed": false
   }
  },
  {
   "cell_type": "code",
   "execution_count": 26,
   "outputs": [
    {
     "data": {
      "text/plain": "array([4.88918986])"
     },
     "execution_count": 26,
     "metadata": {},
     "output_type": "execute_result"
    }
   ],
   "source": [
    "## Scale mileage and age_log using MinMax Scaler\n",
    "scaler = StandardScaler()\n",
    "X_train[['distance']] = scaler.fit_transform(X_train[['distance']])         ## Fitting the model to X-train data\n",
    "scaler.scale_       ## Scaling factors to be implemented in the function"
   ],
   "metadata": {
    "collapsed": false
   }
  },
  {
   "cell_type": "code",
   "execution_count": 27,
   "outputs": [
    {
     "data": {
      "text/plain": "Index(['const', 'bedroom', 'distance', 'type_Semi-Detached', 'type_Terraced'], dtype='object')"
     },
     "execution_count": 27,
     "metadata": {},
     "output_type": "execute_result"
    }
   ],
   "source": [
    "X_train.columns"
   ],
   "metadata": {
    "collapsed": false
   }
  },
  {
   "cell_type": "code",
   "execution_count": 28,
   "outputs": [],
   "source": [
    "# Craeting a constant column (this is a failsafe as sometimes the const column wasn't auto-created)\n",
    "X_train['const'] = 1"
   ],
   "metadata": {
    "collapsed": false
   }
  },
  {
   "cell_type": "code",
   "execution_count": 29,
   "outputs": [
    {
     "name": "stdout",
     "output_type": "stream",
     "text": [
      "                            OLS Regression Results                            \n",
      "==============================================================================\n",
      "Dep. Variable:                  price   R-squared:                       0.145\n",
      "Model:                            OLS   Adj. R-squared:                  0.140\n",
      "Method:                 Least Squares   F-statistic:                     26.96\n",
      "Date:                Fri, 23 Dec 2022   Prob (F-statistic):           1.10e-20\n",
      "Time:                        13:19:44   Log-Likelihood:                -7434.6\n",
      "No. Observations:                 640   AIC:                         1.488e+04\n",
      "Df Residuals:                     635   BIC:                         1.490e+04\n",
      "Df Model:                           4                                         \n",
      "Covariance Type:            nonrobust                                         \n",
      "======================================================================================\n",
      "                         coef    std err          t      P>|t|      [0.025      0.975]\n",
      "--------------------------------------------------------------------------------------\n",
      "const               2.136e+05   2741.558     77.907      0.000    2.08e+05    2.19e+05\n",
      "bedroom             7798.6318   1088.524      7.164      0.000    5661.090    9936.174\n",
      "distance            3291.3651   1072.367      3.069      0.002    1185.551    5397.179\n",
      "type_Semi-Detached -1.355e+04   3036.069     -4.462      0.000   -1.95e+04   -7585.319\n",
      "type_Terraced      -2.222e+04   3821.051     -5.816      0.000   -2.97e+04   -1.47e+04\n",
      "==============================================================================\n",
      "Omnibus:                      117.015   Durbin-Watson:                   2.187\n",
      "Prob(Omnibus):                  0.000   Jarque-Bera (JB):               27.796\n",
      "Skew:                           0.156   Prob(JB):                     9.21e-07\n",
      "Kurtosis:                       2.028   Cond. No.                         5.97\n",
      "==============================================================================\n",
      "\n",
      "Notes:\n",
      "[1] Standard Errors assume that the covariance matrix of the errors is correctly specified.\n",
      "\n",
      " Rmse:  26837.974421053703\n"
     ]
    }
   ],
   "source": [
    "### Linear Regression (with postcode)\n",
    "feature_cols = ['const','bedroom', 'distance', 'type_Semi-Detached', 'type_Terraced']\n",
    "\n",
    "\n",
    "                ## Final Features to be used in the model\n",
    "\n",
    "\n",
    "lin_reg = sm.OLS(y_train, X_train[feature_cols].astype(float))          ## Stats Model Linear Regression\n",
    "results = lin_reg.fit()\n",
    "print(results.summary())\n",
    "\n",
    "\n",
    "X_train['y_pred'] = results.predict(X_train[feature_cols])\n",
    "X_train['y_pred'] = X_train['y_pred'].astype('float')\n",
    "rmse = statsmodels.tools.eval_measures.rmse(y_train, X_train['y_pred']) ## RMSE of the Model\n",
    "\n",
    "print('\\n', 'Rmse: ', rmse)"
   ],
   "metadata": {
    "collapsed": false
   }
  },
  {
   "cell_type": "code",
   "execution_count": 30,
   "outputs": [
    {
     "data": {
      "text/plain": "             Features   VIF\n0               const  6.63\n4       type_Terraced  1.79\n3  type_Semi-Detached  1.77\n1             bedroom  1.04\n2            distance  1.01",
      "text/html": "<div>\n<style scoped>\n    .dataframe tbody tr th:only-of-type {\n        vertical-align: middle;\n    }\n\n    .dataframe tbody tr th {\n        vertical-align: top;\n    }\n\n    .dataframe thead th {\n        text-align: right;\n    }\n</style>\n<table border=\"1\" class=\"dataframe\">\n  <thead>\n    <tr style=\"text-align: right;\">\n      <th></th>\n      <th>Features</th>\n      <th>VIF</th>\n    </tr>\n  </thead>\n  <tbody>\n    <tr>\n      <th>0</th>\n      <td>const</td>\n      <td>6.63</td>\n    </tr>\n    <tr>\n      <th>4</th>\n      <td>type_Terraced</td>\n      <td>1.79</td>\n    </tr>\n    <tr>\n      <th>3</th>\n      <td>type_Semi-Detached</td>\n      <td>1.77</td>\n    </tr>\n    <tr>\n      <th>1</th>\n      <td>bedroom</td>\n      <td>1.04</td>\n    </tr>\n    <tr>\n      <th>2</th>\n      <td>distance</td>\n      <td>1.01</td>\n    </tr>\n  </tbody>\n</table>\n</div>"
     },
     "execution_count": 30,
     "metadata": {},
     "output_type": "execute_result"
    }
   ],
   "source": [
    "### VIF\n",
    "def checkVIF(X):\n",
    "    '''Function to calculate the VIF of a dataframe '''\n",
    "    vif = pd.DataFrame()                ## Initialising an empty dataframe\n",
    "    vif['Features'] = feature_cols      ## The features used in training\n",
    "    vif['VIF'] = [variance_inflation_factor(X[feature_cols].values, i) for i in range(X[feature_cols].shape[1])]\n",
    "    vif['VIF'] = round(vif['VIF'], 2)   ## Round VIF to 2 decimal places for readability\n",
    "    vif = vif.sort_values(by = \"VIF\", ascending = False)    ## Sorting VIF values in descending order to observe feature VIF scores\n",
    "    return vif\n",
    "checkVIF(X_train)   ## If VIF >= 5, test to see if the removal of said feature reduces the multi-co-linearity"
   ],
   "metadata": {
    "collapsed": false
   }
  },
  {
   "cell_type": "markdown",
   "source": [
    "<font size=\"6\"><font color='orange'>Testing the model</font>"
   ],
   "metadata": {
    "collapsed": false
   }
  },
  {
   "cell_type": "code",
   "execution_count": 31,
   "outputs": [],
   "source": [
    "## Apply feature engineering function X_Train Dataframe\n",
    "X_test = feature_eng(X_test)"
   ],
   "metadata": {
    "collapsed": false
   }
  },
  {
   "cell_type": "code",
   "execution_count": 32,
   "outputs": [
    {
     "data": {
      "text/plain": "array([0.46097722])"
     },
     "execution_count": 32,
     "metadata": {},
     "output_type": "execute_result"
    }
   ],
   "source": [
    "## Scale mileage and age_log using MinMax Scaler\n",
    "scaler = StandardScaler()\n",
    "X_test[['bedroom']] = scaler.fit_transform(X_test[['bedroom']])  ## Fitting the model to X-train data\n",
    "scaler.scale_  ## Scaling factors to be implemented in the function\n"
   ],
   "metadata": {
    "collapsed": false
   }
  },
  {
   "cell_type": "code",
   "execution_count": 33,
   "outputs": [
    {
     "data": {
      "text/plain": "array([4.80136788])"
     },
     "execution_count": 33,
     "metadata": {},
     "output_type": "execute_result"
    }
   ],
   "source": [
    "## Scale mileage and age_log using MinMax Scaler\n",
    "scaler = StandardScaler()\n",
    "X_test[['distance']] = scaler.fit_transform(X_test[['distance']])  ## Fitting the model to X-train data\n",
    "scaler.scale_  ## Scaling factors to be implemented in the function"
   ],
   "metadata": {
    "collapsed": false
   }
  },
  {
   "cell_type": "code",
   "execution_count": 34,
   "outputs": [
    {
     "name": "stdout",
     "output_type": "stream",
     "text": [
      "                            OLS Regression Results                            \n",
      "==============================================================================\n",
      "Dep. Variable:                  price   R-squared:                       0.061\n",
      "Model:                            OLS   Adj. R-squared:                  0.037\n",
      "Method:                 Least Squares   F-statistic:                     2.528\n",
      "Date:                Fri, 23 Dec 2022   Prob (F-statistic):             0.0429\n",
      "Time:                        13:19:44   Log-Likelihood:                -1863.7\n",
      "No. Observations:                 160   AIC:                             3737.\n",
      "Df Residuals:                     155   BIC:                             3753.\n",
      "Df Model:                           4                                         \n",
      "Covariance Type:            nonrobust                                         \n",
      "======================================================================================\n",
      "                         coef    std err          t      P>|t|      [0.025      0.975]\n",
      "--------------------------------------------------------------------------------------\n",
      "const               2.018e+05   6343.586     31.805      0.000    1.89e+05    2.14e+05\n",
      "bedroom             4502.3460   2252.047      1.999      0.047      53.681    8951.011\n",
      "distance            2013.3536   2258.397      0.891      0.374   -2447.854    6474.561\n",
      "type_Semi-Detached -5141.5127   6875.859     -0.748      0.456   -1.87e+04    8440.971\n",
      "type_Terraced      -1.667e+04   8541.926     -1.952      0.053   -3.35e+04     201.260\n",
      "==============================================================================\n",
      "Omnibus:                       26.591   Durbin-Watson:                   1.964\n",
      "Prob(Omnibus):                  0.000   Jarque-Bera (JB):                9.313\n",
      "Skew:                           0.330   Prob(JB):                      0.00950\n",
      "Kurtosis:                       2.020   Cond. No.                         6.64\n",
      "==============================================================================\n",
      "\n",
      "Notes:\n",
      "[1] Standard Errors assume that the covariance matrix of the errors is correctly specified.\n",
      "\n",
      " Rmse:  27705.43234735992\n"
     ]
    }
   ],
   "source": [
    "X_train['const'] = 1\n",
    "### Linear Regression (with postcode)\n",
    "feature_cols = ['const', 'bedroom', 'distance', 'type_Semi-Detached', 'type_Terraced']\n",
    "\n",
    "## Final Features to be used in the model\n",
    "\n",
    "\n",
    "lin_reg = sm.OLS(y_test, X_test[feature_cols].astype(float))  ## Stats Model Linear Regression\n",
    "results = lin_reg.fit()\n",
    "print(results.summary())\n",
    "\n",
    "X_test['y_pred'] = results.predict(X_test[feature_cols])\n",
    "X_test['y_pred'] = X_test['y_pred'].astype('float')\n",
    "rmse = statsmodels.tools.eval_measures.rmse(y_test, X_test['y_pred'])  ## RMSE of the Model\n",
    "\n",
    "print('\\n', 'Rmse: ', rmse)"
   ],
   "metadata": {
    "collapsed": false
   }
  },
  {
   "cell_type": "code",
   "execution_count": 34,
   "outputs": [],
   "source": [],
   "metadata": {
    "collapsed": false
   }
  }
 ],
 "metadata": {
  "kernelspec": {
   "display_name": "Python 3",
   "language": "python",
   "name": "python3"
  },
  "language_info": {
   "codemirror_mode": {
    "name": "ipython",
    "version": 2
   },
   "file_extension": ".py",
   "mimetype": "text/x-python",
   "name": "python",
   "nbconvert_exporter": "python",
   "pygments_lexer": "ipython2",
   "version": "2.7.6"
  }
 },
 "nbformat": 4,
 "nbformat_minor": 0
}
