{
 "cells": [
  {
   "cell_type": "code",
   "execution_count": 2,
   "metadata": {
    "collapsed": true
   },
   "outputs": [],
   "source": [
    "import pandas as pd\n",
    "import numpy as np\n",
    "import matplotlib.pyplot as plt\n",
    "import seaborn as sns\n",
    "import math\n",
    "import regex as re\n",
    "import geocoder\n",
    "from geopy.geocoders import Nominatim\n",
    "import geopy.distance"
   ]
  },
  {
   "cell_type": "code",
   "execution_count": 3,
   "outputs": [],
   "source": [
    "# Reading in both sets of scraped data\n",
    "# scraped_data is from data scraped newest first, scraped_data2 is from data scraped oldest first\n",
    "# As there was around 2000 data entried and I could scrape 1000 at a time, this should have got me\n",
    "# most properties available in the newcaslte area\n",
    "\n",
    "dfscrap = pd.read_csv('scraped_data.csv')\n",
    "dfscrap2 = pd.read_csv('scraped_data2.csv')\n",
    "dfscrap3 = pd.read_csv('scraped_data3.csv')\n",
    "dfscrap4 = pd.read_csv('scraped_data4.csv')\n",
    "dfscrap5 = pd.read_csv('scraped_data5.csv')"
   ],
   "metadata": {
    "collapsed": false
   }
  },
  {
   "cell_type": "code",
   "execution_count": 4,
   "outputs": [],
   "source": [
    "# Concatenating both dataframes\n",
    "df1 = pd.concat([dfscrap,dfscrap2,dfscrap3,dfscrap4,dfscrap5])"
   ],
   "metadata": {
    "collapsed": false
   }
  },
  {
   "cell_type": "code",
   "execution_count": 5,
   "outputs": [],
   "source": [
    "# Resetting the index and dropping the index column\n",
    "df1.reset_index(inplace = True)\n",
    "df1.drop(columns='index', inplace=True)"
   ],
   "metadata": {
    "collapsed": false
   }
  },
  {
   "cell_type": "code",
   "execution_count": 6,
   "outputs": [],
   "source": [
    "# Dropping the Unnamed:0 column, as this will interfere when I test for duplicates\n",
    "df1.drop(columns = ['Unnamed: 0'], inplace = True)"
   ],
   "metadata": {
    "collapsed": false
   }
  },
  {
   "cell_type": "code",
   "execution_count": 7,
   "outputs": [
    {
     "data": {
      "text/plain": "1445"
     },
     "execution_count": 7,
     "metadata": {},
     "output_type": "execute_result"
    }
   ],
   "source": [
    "## Checking for duplicates\n",
    "# It isn't so surprising to have so many duplicate properties\n",
    "# On the Rightmove site they have multiple 'hot' properties which show up on random pages\n",
    "df1.duplicated().sum()"
   ],
   "metadata": {
    "collapsed": false
   }
  },
  {
   "cell_type": "code",
   "execution_count": 8,
   "outputs": [
    {
     "data": {
      "text/plain": "                                                  price  \\\n2057  £218,995Knowing the purchase price means you c...   \n2710  £132,995Knowing the purchase price means you c...   \n2709  £132,995Knowing the purchase price means you c...   \n3690  £181,995Knowing the purchase price means you c...   \n2060  £116,995Knowing the purchase price means you c...   \n...                                                 ...   \n2044  £302,995Knowing the purchase price means you c...   \n757   £295,995Knowing the purchase price means you c...   \n1811  £228,995Knowing the purchase price means you c...   \n97    £295,995Knowing the purchase price means you c...   \n1909  £228,995Knowing the purchase price means you c...   \n\n                                                address     house_type bedroom  \n2057  \\t\\r\\nHylton Road\\r\\nAcklam\\r\\nMiddlesbrough\\r...       Detached      ×4  \n2710  \\t\\r\\nHylton Road\\r\\nAcklam\\r\\nMiddlesbrough\\r...  Semi-Detached      ×3  \n2709  \\t\\r\\nHylton Road\\r\\nAcklam\\r\\nMiddlesbrough\\r...  Semi-Detached      ×3  \n3690  \\t\\r\\nHylton Road\\r\\nAcklam\\r\\nMiddlesbrough\\r...       Detached      ×3  \n2060  \\t\\r\\nHylton Road\\r\\nAcklam\\r\\nMiddlesbrough\\r...  Semi-Detached      ×2  \n...                                                 ...            ...     ...  \n2044   Yarm Back Lane,\\r\\nStockton-On-Tees,\\r\\nTS21 1AU       Detached      ×4  \n757   to the West of Sage and East of Dinnington,\\r\\...  Semi-Detached      ×4  \n1811  to the West of Sage and East of Dinnington,\\r\\...  Semi-Detached      ×3  \n97    to the West of Sage and East of Dinnington,\\r\\...  Semi-Detached      ×4  \n1909  to the West of Sage and East of Dinnington,\\r\\...  Semi-Detached      ×3  \n\n[2663 rows x 4 columns]",
      "text/html": "<div>\n<style scoped>\n    .dataframe tbody tr th:only-of-type {\n        vertical-align: middle;\n    }\n\n    .dataframe tbody tr th {\n        vertical-align: top;\n    }\n\n    .dataframe thead th {\n        text-align: right;\n    }\n</style>\n<table border=\"1\" class=\"dataframe\">\n  <thead>\n    <tr style=\"text-align: right;\">\n      <th></th>\n      <th>price</th>\n      <th>address</th>\n      <th>house_type</th>\n      <th>bedroom</th>\n    </tr>\n  </thead>\n  <tbody>\n    <tr>\n      <th>2057</th>\n      <td>£218,995Knowing the purchase price means you c...</td>\n      <td>\\t\\r\\nHylton Road\\r\\nAcklam\\r\\nMiddlesbrough\\r...</td>\n      <td>Detached</td>\n      <td>×4</td>\n    </tr>\n    <tr>\n      <th>2710</th>\n      <td>£132,995Knowing the purchase price means you c...</td>\n      <td>\\t\\r\\nHylton Road\\r\\nAcklam\\r\\nMiddlesbrough\\r...</td>\n      <td>Semi-Detached</td>\n      <td>×3</td>\n    </tr>\n    <tr>\n      <th>2709</th>\n      <td>£132,995Knowing the purchase price means you c...</td>\n      <td>\\t\\r\\nHylton Road\\r\\nAcklam\\r\\nMiddlesbrough\\r...</td>\n      <td>Semi-Detached</td>\n      <td>×3</td>\n    </tr>\n    <tr>\n      <th>3690</th>\n      <td>£181,995Knowing the purchase price means you c...</td>\n      <td>\\t\\r\\nHylton Road\\r\\nAcklam\\r\\nMiddlesbrough\\r...</td>\n      <td>Detached</td>\n      <td>×3</td>\n    </tr>\n    <tr>\n      <th>2060</th>\n      <td>£116,995Knowing the purchase price means you c...</td>\n      <td>\\t\\r\\nHylton Road\\r\\nAcklam\\r\\nMiddlesbrough\\r...</td>\n      <td>Semi-Detached</td>\n      <td>×2</td>\n    </tr>\n    <tr>\n      <th>...</th>\n      <td>...</td>\n      <td>...</td>\n      <td>...</td>\n      <td>...</td>\n    </tr>\n    <tr>\n      <th>2044</th>\n      <td>£302,995Knowing the purchase price means you c...</td>\n      <td>Yarm Back Lane,\\r\\nStockton-On-Tees,\\r\\nTS21 1AU</td>\n      <td>Detached</td>\n      <td>×4</td>\n    </tr>\n    <tr>\n      <th>757</th>\n      <td>£295,995Knowing the purchase price means you c...</td>\n      <td>to the West of Sage and East of Dinnington,\\r\\...</td>\n      <td>Semi-Detached</td>\n      <td>×4</td>\n    </tr>\n    <tr>\n      <th>1811</th>\n      <td>£228,995Knowing the purchase price means you c...</td>\n      <td>to the West of Sage and East of Dinnington,\\r\\...</td>\n      <td>Semi-Detached</td>\n      <td>×3</td>\n    </tr>\n    <tr>\n      <th>97</th>\n      <td>£295,995Knowing the purchase price means you c...</td>\n      <td>to the West of Sage and East of Dinnington,\\r\\...</td>\n      <td>Semi-Detached</td>\n      <td>×4</td>\n    </tr>\n    <tr>\n      <th>1909</th>\n      <td>£228,995Knowing the purchase price means you c...</td>\n      <td>to the West of Sage and East of Dinnington,\\r\\...</td>\n      <td>Semi-Detached</td>\n      <td>×3</td>\n    </tr>\n  </tbody>\n</table>\n<p>2663 rows × 4 columns</p>\n</div>"
     },
     "execution_count": 8,
     "metadata": {},
     "output_type": "execute_result"
    }
   ],
   "source": [
    "### This is the list of duplicate properties\n",
    "dfdupe = df1[df1.duplicated(keep = False)].sort_values('address')\n",
    "dfdupe"
   ],
   "metadata": {
    "collapsed": false
   }
  },
  {
   "cell_type": "code",
   "execution_count": 9,
   "outputs": [],
   "source": [
    "### Removing all duplicate properties\n",
    "df1.drop_duplicates(inplace = True)"
   ],
   "metadata": {
    "collapsed": false
   }
  },
  {
   "cell_type": "code",
   "execution_count": 10,
   "outputs": [],
   "source": [
    "### Giving each property a property number\n",
    "df1['property_no'] = df1.index +1"
   ],
   "metadata": {
    "collapsed": false
   }
  },
  {
   "cell_type": "code",
   "execution_count": 11,
   "outputs": [
    {
     "data": {
      "text/plain": "                                                  price  \\\n0     £196,000Knowing the purchase price means you c...   \n1     £389,995Knowing the purchase price means you c...   \n2     £350,000Knowing the purchase price means you c...   \n3     £200,000Knowing the purchase price means you c...   \n4     £335,995Knowing the purchase price means you c...   \n...                                                 ...   \n5011  £150,000Knowing the purchase price means you c...   \n5013  £255,000Knowing the purchase price means you c...   \n5014  £180,000Knowing the purchase price means you c...   \n5015  £299,950Knowing the purchase price means you c...   \n5016  £90,000Knowing the purchase price means you ca...   \n\n                                                address  \\\n0                  Greystoke,\\r\\nPonteland,\\r\\nNE20 0AL   \n1     120 High Street\\r\\nGosforth\\r\\nNewcastle Upon ...   \n2     6 Cheviot House,\\r\\nManor Walks,\\r\\nCramlingto...   \n3     582 Durham Road,\\r\\nLow Fell,\\r\\nGateshead,\\r\\...   \n4          Off Beacon Lane,\\r\\nCramlington,\\r\\nNE23 8AZ   \n...                                                 ...   \n5011  Unit K The Galleries,\\r\\nWashington Centre,\\r\\...   \n5013  First Floor, \\r\\n50 St. Mary Axe,\\r\\nLondon,\\r...   \n5014  48-49 The Galleries Washington Centre, Washing...   \n5015  64 Sea Road,\\r\\nFulwell,\\r\\nSunderland,\\r\\nSR6...   \n5016                                         Nationwide   \n\n                  house_type bedroom  property_no  \n0              Semi-Detached      ×3            1  \n1                   Detached      ×4            2  \n2                   Detached      ×4            3  \n3              Semi-Detached      ×3            4  \n4                      House      ×4            5  \n...                      ...     ...          ...  \n5011           Semi-Detached      ×2         5012  \n5013                Detached      ×4         5014  \n5014              Town House      ×4         5015  \n5015  Semi-Detached Bungalow      ×2         5016  \n5016                    Flat      ×2         5017  \n\n[3573 rows x 5 columns]",
      "text/html": "<div>\n<style scoped>\n    .dataframe tbody tr th:only-of-type {\n        vertical-align: middle;\n    }\n\n    .dataframe tbody tr th {\n        vertical-align: top;\n    }\n\n    .dataframe thead th {\n        text-align: right;\n    }\n</style>\n<table border=\"1\" class=\"dataframe\">\n  <thead>\n    <tr style=\"text-align: right;\">\n      <th></th>\n      <th>price</th>\n      <th>address</th>\n      <th>house_type</th>\n      <th>bedroom</th>\n      <th>property_no</th>\n    </tr>\n  </thead>\n  <tbody>\n    <tr>\n      <th>0</th>\n      <td>£196,000Knowing the purchase price means you c...</td>\n      <td>Greystoke,\\r\\nPonteland,\\r\\nNE20 0AL</td>\n      <td>Semi-Detached</td>\n      <td>×3</td>\n      <td>1</td>\n    </tr>\n    <tr>\n      <th>1</th>\n      <td>£389,995Knowing the purchase price means you c...</td>\n      <td>120 High Street\\r\\nGosforth\\r\\nNewcastle Upon ...</td>\n      <td>Detached</td>\n      <td>×4</td>\n      <td>2</td>\n    </tr>\n    <tr>\n      <th>2</th>\n      <td>£350,000Knowing the purchase price means you c...</td>\n      <td>6 Cheviot House,\\r\\nManor Walks,\\r\\nCramlingto...</td>\n      <td>Detached</td>\n      <td>×4</td>\n      <td>3</td>\n    </tr>\n    <tr>\n      <th>3</th>\n      <td>£200,000Knowing the purchase price means you c...</td>\n      <td>582 Durham Road,\\r\\nLow Fell,\\r\\nGateshead,\\r\\...</td>\n      <td>Semi-Detached</td>\n      <td>×3</td>\n      <td>4</td>\n    </tr>\n    <tr>\n      <th>4</th>\n      <td>£335,995Knowing the purchase price means you c...</td>\n      <td>Off Beacon Lane,\\r\\nCramlington,\\r\\nNE23 8AZ</td>\n      <td>House</td>\n      <td>×4</td>\n      <td>5</td>\n    </tr>\n    <tr>\n      <th>...</th>\n      <td>...</td>\n      <td>...</td>\n      <td>...</td>\n      <td>...</td>\n      <td>...</td>\n    </tr>\n    <tr>\n      <th>5011</th>\n      <td>£150,000Knowing the purchase price means you c...</td>\n      <td>Unit K The Galleries,\\r\\nWashington Centre,\\r\\...</td>\n      <td>Semi-Detached</td>\n      <td>×2</td>\n      <td>5012</td>\n    </tr>\n    <tr>\n      <th>5013</th>\n      <td>£255,000Knowing the purchase price means you c...</td>\n      <td>First Floor, \\r\\n50 St. Mary Axe,\\r\\nLondon,\\r...</td>\n      <td>Detached</td>\n      <td>×4</td>\n      <td>5014</td>\n    </tr>\n    <tr>\n      <th>5014</th>\n      <td>£180,000Knowing the purchase price means you c...</td>\n      <td>48-49 The Galleries Washington Centre, Washing...</td>\n      <td>Town House</td>\n      <td>×4</td>\n      <td>5015</td>\n    </tr>\n    <tr>\n      <th>5015</th>\n      <td>£299,950Knowing the purchase price means you c...</td>\n      <td>64 Sea Road,\\r\\nFulwell,\\r\\nSunderland,\\r\\nSR6...</td>\n      <td>Semi-Detached Bungalow</td>\n      <td>×2</td>\n      <td>5016</td>\n    </tr>\n    <tr>\n      <th>5016</th>\n      <td>£90,000Knowing the purchase price means you ca...</td>\n      <td>Nationwide</td>\n      <td>Flat</td>\n      <td>×2</td>\n      <td>5017</td>\n    </tr>\n  </tbody>\n</table>\n<p>3573 rows × 5 columns</p>\n</div>"
     },
     "execution_count": 11,
     "metadata": {},
     "output_type": "execute_result"
    }
   ],
   "source": [
    "df1"
   ],
   "metadata": {
    "collapsed": false
   }
  },
  {
   "cell_type": "code",
   "execution_count": 12,
   "outputs": [
    {
     "name": "stdout",
     "output_type": "stream",
     "text": [
      "<class 'pandas.core.frame.DataFrame'>\n",
      "Int64Index: 3573 entries, 0 to 5016\n",
      "Data columns (total 5 columns):\n",
      " #   Column       Non-Null Count  Dtype \n",
      "---  ------       --------------  ----- \n",
      " 0   price        3573 non-null   object\n",
      " 1   address      3573 non-null   object\n",
      " 2   house_type   3573 non-null   object\n",
      " 3   bedroom      3573 non-null   object\n",
      " 4   property_no  3573 non-null   int64 \n",
      "dtypes: int64(1), object(4)\n",
      "memory usage: 167.5+ KB\n"
     ]
    }
   ],
   "source": [
    "### Checking for nulls and datatypes of my columns\n",
    "df1.info()"
   ],
   "metadata": {
    "collapsed": false
   }
  },
  {
   "cell_type": "markdown",
   "source": [
    "<font size=\"6\"><font color='orange'>Start of data cleaning on the 'price' column</font>"
   ],
   "metadata": {
    "collapsed": false
   }
  },
  {
   "cell_type": "code",
   "execution_count": 13,
   "outputs": [],
   "source": [
    "## Removing everything except for the numbers in my price column\n",
    "df1['price'] = [re.sub('Knowing the purchase price means you can work out the total cost of buying the property.Read more about property price in our glossary page.','', x) for x in df1['price']]\n",
    "df1['price'] = [re.sub(',','', x) for x in df1['price']]\n",
    "df1['price'] = [re.sub('£','', x) for x in df1['price']]"
   ],
   "metadata": {
    "collapsed": false
   }
  },
  {
   "cell_type": "code",
   "execution_count": 14,
   "outputs": [],
   "source": [
    "## Removing all rows where the value is 'coming soon'\n",
    "df1 = df1[df1['price'] != 'Coming Soon']"
   ],
   "metadata": {
    "collapsed": false
   }
  },
  {
   "cell_type": "code",
   "execution_count": 15,
   "outputs": [
    {
     "name": "stderr",
     "output_type": "stream",
     "text": [
      "C:\\Users\\wdre6\\AppData\\Local\\Temp\\ipykernel_13760\\3667124339.py:2: SettingWithCopyWarning: \n",
      "A value is trying to be set on a copy of a slice from a DataFrame.\n",
      "Try using .loc[row_indexer,col_indexer] = value instead\n",
      "\n",
      "See the caveats in the documentation: https://pandas.pydata.org/pandas-docs/stable/user_guide/indexing.html#returning-a-view-versus-a-copy\n",
      "  df1['price'] = df1['price'].astype('int')\n"
     ]
    }
   ],
   "source": [
    "## Setting the price column to an integer type\n",
    "df1['price'] = df1['price'].astype('int')"
   ],
   "metadata": {
    "collapsed": false
   }
  },
  {
   "cell_type": "code",
   "execution_count": 16,
   "outputs": [
    {
     "data": {
      "text/plain": "125000    72\n90000     68\n120000    67\n150000    67\n110000    63\n          ..\n352995     1\n139999     1\n404995     1\n338995     1\n499000     1\nName: price, Length: 600, dtype: int64"
     },
     "execution_count": 16,
     "metadata": {},
     "output_type": "execute_result"
    }
   ],
   "source": [
    "## Double-checking each unique value within the price column to see if anything else needs removing\n",
    "df1['price'].value_counts()"
   ],
   "metadata": {
    "collapsed": false
   }
  },
  {
   "cell_type": "markdown",
   "source": [
    "<font size=\"6\"><font color='orange'>Start of data cleaning on the 'address' column</font>"
   ],
   "metadata": {
    "collapsed": false
   }
  },
  {
   "cell_type": "code",
   "execution_count": 17,
   "outputs": [],
   "source": [
    "## remove the 'Nationwide' value\n",
    "df1 = df1[df1['address'] != 'Nationwide']"
   ],
   "metadata": {
    "collapsed": false
   }
  },
  {
   "cell_type": "code",
   "execution_count": 18,
   "outputs": [],
   "source": [
    "## Replacing the /r/n value with a lot of spaces\n",
    "# This will allow me to more easily isolate the postcode\n",
    "df1['address'] = [re.sub('\\r\\n','      ', x) for x in df1['address']]"
   ],
   "metadata": {
    "collapsed": false
   }
  },
  {
   "cell_type": "code",
   "execution_count": 19,
   "outputs": [],
   "source": [
    "## Stripping the data and removing commas\n",
    "# Stripping again to ensure there is no white space left\n",
    "def clean_add (df):\n",
    "\n",
    "    df = df.strip()\n",
    "    df = df.replace(',','')\n",
    "    df = df.strip()\n",
    "    return df"
   ],
   "metadata": {
    "collapsed": false
   }
  },
  {
   "cell_type": "code",
   "execution_count": 20,
   "outputs": [],
   "source": [
    "## Applying the function\n",
    "df1['address'] = df1['address'].apply(clean_add)"
   ],
   "metadata": {
    "collapsed": false
   }
  },
  {
   "cell_type": "code",
   "execution_count": 21,
   "outputs": [],
   "source": [
    "## Removing everything except for the last 8 characters, as these 100% contain the postcode\n",
    "def postcode (x):\n",
    "    return x[-8:]"
   ],
   "metadata": {
    "collapsed": false
   }
  },
  {
   "cell_type": "code",
   "execution_count": 22,
   "outputs": [],
   "source": [
    "## Applying the function\n",
    "df1['address'] = df1['address'].apply(postcode)"
   ],
   "metadata": {
    "collapsed": false
   }
  },
  {
   "cell_type": "code",
   "execution_count": 23,
   "outputs": [],
   "source": [
    "## I know there are spaces between the first part and second part of the postcode, so I replace the spaces with commas\n",
    "def commasplit (df):\n",
    "\n",
    "    df = df.strip()\n",
    "    df = df.replace(' ',',')\n",
    "\n",
    "    return df"
   ],
   "metadata": {
    "collapsed": false
   }
  },
  {
   "cell_type": "code",
   "execution_count": 24,
   "outputs": [],
   "source": [
    "## Applying the function\n",
    "df1['address'] = df1['address'].apply(commasplit)"
   ],
   "metadata": {
    "collapsed": false
   }
  },
  {
   "cell_type": "code",
   "execution_count": 25,
   "outputs": [],
   "source": [
    "## Creating a new column 'postcode' from the 1st split of the address column\n",
    "# 'Postcode' will contain the first part of each postcode\n",
    "df1['postcode'] = df1['address'].str.split(',').str[0]"
   ],
   "metadata": {
    "collapsed": false
   }
  },
  {
   "cell_type": "code",
   "execution_count": 26,
   "outputs": [
    {
     "data": {
      "text/plain": "NE26    189\nNE9     170\nSR1     152\nNE3     141\nTS18    140\n       ... \nDL8       1\nSL9       1\nW1U       1\nDL7       1\nBH8       1\nName: postcode, Length: 122, dtype: int64"
     },
     "execution_count": 26,
     "metadata": {},
     "output_type": "execute_result"
    }
   ],
   "source": [
    "df1['postcode'].value_counts()"
   ],
   "metadata": {
    "collapsed": false
   }
  },
  {
   "cell_type": "code",
   "execution_count": 27,
   "outputs": [],
   "source": [
    "## Removing anything else left in the postcode column\n",
    "df1 = df1[df1['postcode'] != 'r']\n",
    "df1 = df1[df1['postcode'] != 'yne']"
   ],
   "metadata": {
    "collapsed": false
   }
  },
  {
   "cell_type": "code",
   "execution_count": 28,
   "outputs": [],
   "source": [
    "# Dropping the leftover 'address' column\n",
    "df1.drop(columns = ['address'], inplace = True)"
   ],
   "metadata": {
    "collapsed": false
   }
  },
  {
   "cell_type": "code",
   "execution_count": 29,
   "outputs": [],
   "source": [
    "## Removing all postcodes not in Newcastle or the surrounding area\n",
    "## This is any postcode not marked NE, SR or DH\n",
    "\n",
    "remove_postcode = ['DH4','B90','DH1','WC2N','W6','M32','WD18','DH3',\n",
    "                   'Teesside','DH5','EC3A','LS9','e','LS22','LS7','DL3',\n",
    "                   'M17','AL1','PE9','DL14','BD19','NG17','M50','DL1',\n",
    "                   'RM14','EC1M','BN12','DH9','B3','M34','LS1','CH1','LE1','W1G','LS8','L12',\n",
    "                   'Scotland','RM11','NG4','M3','W1K','DL7','SS9','KT1','WV1','DL12',\n",
    "                   'E16','WD17','DN10','RH10','CR2','DL8','SL9','W1U','BH8','S75']\n"
   ],
   "metadata": {
    "collapsed": false
   }
  },
  {
   "cell_type": "code",
   "execution_count": 30,
   "outputs": [],
   "source": [
    "## Removing all postcodes not in the Newcastle area\n",
    "df1=df1[~df1['postcode'].isin(remove_postcode)]"
   ],
   "metadata": {
    "collapsed": false
   }
  },
  {
   "cell_type": "code",
   "execution_count": 31,
   "outputs": [
    {
     "data": {
      "text/plain": "NE26    189\nNE9     170\nSR1     152\nNE3     141\nTS18    140\n       ... \nNE11      2\nTS3       1\nNE46      1\nTS19      1\nNE63      1\nName: postcode, Length: 64, dtype: int64"
     },
     "execution_count": 31,
     "metadata": {},
     "output_type": "execute_result"
    }
   ],
   "source": [
    "## Checking the unique values left in the postcode column\n",
    "df1['postcode'].value_counts() #.reset_index().sort_values(by = 'index')"
   ],
   "metadata": {
    "collapsed": false
   }
  },
  {
   "cell_type": "markdown",
   "source": [
    "<font size=\"6\"><font color='orange'>Converting the postcode to longitude and latitude</font>"
   ],
   "metadata": {
    "collapsed": false
   }
  },
  {
   "cell_type": "code",
   "execution_count": 32,
   "outputs": [],
   "source": [
    "## List of postcodes to get lat_long from\n",
    "\n",
    "# Postcode list from dataframe (NE)\n",
    "pc_ne_list = ['NE26','NE9','NE3','NE5','NE13','NE20','NE40','NE28','NE33','NE2',\n",
    "           'NE16','NE12','NE23','NE30','NE31','NE32','NE4','NE24','NE25','NE15',\n",
    "           'NE29','NE7','NE42','NE21','NE39','NE38','NE1','NE6','NE45','NE61',\n",
    "           'NE22','NE36','NE8','NE11','NE46','NE63']\n",
    "\n",
    "# Specific postcodes in order to get the longitude and latitude (NE)\n",
    "pc_ne_list_spec = ['NE261AD','NE95AD','NE31AD','NE51AD','NE136AD','NE200AD','NE404AD','NE280AD','NE331AF','NE21AD',\n",
    "                'NE163AD','NE126DD','NE231WW','NE301AD','NE311AD','NE323AA','NE45AD','NE241AA','NE250AD','NE150AA',\n",
    "                'NE290AA','NE77AA','NE425AD','NE214AB','NE391AB','NE380AB','NE11AD','NE61AD','NE455AA','NE611AA',\n",
    "                'NE225AA','NE360AD','NE81AD','NE110AD','NE461AB','NE630AE']\n",
    "\n",
    "# Postcode list from dataframe (SU)\n",
    "pc_su_list = ['SR1','SR6','SR2','SR3','SR7','SR8']\n",
    "\n",
    "# Specific postcodes in order to get the longitude and latitude (SU)\n",
    "pc_su_list_spec = ['SR11SA','SR60AA','SR27QT','SR31SA','SR70AE','SR81AA']\n",
    "\n",
    "# Postcode list from dataframe (MI)\n",
    "pc_mi_list = ['TS18','TS1','TS7','TS10','TS6','TS14','TS23','TS5',\n",
    "              'TS15','TS26','TS17','TS24','TS9','TS8','TS20',\n",
    "              'TS22','TS12','TS21','TS16','TS4','TS3','TS19']\n",
    "\n",
    "# Specific postcodes in order to get the longitude and latitude (MI)\n",
    "pc_mi_list_spec = ['TS181AA','TS11AA','TS70EF','TS101AB','TS60AB','TS146ab','TS231AB','TS54AB',\n",
    "                    'TS150AA','TS260AA','TS170AA','TS240AE','TS95AA','TS80AA','TS201AA',\n",
    "                    'TS225AA','TS121AB','TS211AA','TS160AA','TS42AF','TS30AA','TS190AA']"
   ],
   "metadata": {
    "collapsed": false
   }
  },
  {
   "cell_type": "code",
   "execution_count": 33,
   "outputs": [],
   "source": [
    "## Using geocoder to get the longitude and latitude for each postcode\n",
    "# Appending these to lists in order to create a dataframe\n",
    "\n",
    "# calling the Nominatim tool\n",
    "loc = Nominatim(user_agent=\"GetLoc\")\n",
    "\n",
    "longitude_ne = []\n",
    "latitude_ne = []\n",
    "longitude_su = []\n",
    "latitude_su = []\n",
    "longitude_mi = []\n",
    "latitude_mi = []\n",
    "\n",
    "for i in pc_ne_list_spec:\n",
    "\n",
    "    # Looping through the postocde list and getting the location lat and long\n",
    "    try:\n",
    "        getLoc = loc.geocode(i)\n",
    "    except Exception as e:\n",
    "        print(i)\n",
    "\n",
    "    longitude_ne.append(getLoc.longitude)\n",
    "    latitude_ne.append(getLoc.latitude)\n",
    "\n",
    "for i in pc_su_list_spec:\n",
    "\n",
    "    # Looping through the postocde list and getting the location lat and long\n",
    "    try:\n",
    "        getLoc = loc.geocode(i)\n",
    "    except Exception as e:\n",
    "        print(i)\n",
    "\n",
    "    longitude_su.append(getLoc.longitude)\n",
    "    latitude_su.append(getLoc.latitude)\n",
    "\n",
    "for i in pc_mi_list_spec:\n",
    "\n",
    "    # Looping through the postocde list and getting the location lat and long\n",
    "    try:\n",
    "        getLoc = loc.geocode(i)\n",
    "    except Exception as e:\n",
    "        print(i)\n",
    "\n",
    "    try:\n",
    "        longitude_mi.append(getLoc.longitude)\n",
    "        latitude_mi.append(getLoc.latitude)\n",
    "    except Exception as e:\n",
    "        print(i)"
   ],
   "metadata": {
    "collapsed": false
   }
  },
  {
   "cell_type": "code",
   "execution_count": 34,
   "outputs": [],
   "source": [
    "## Creating a dictionary with the postcode, latitude and longitude\n",
    "dict_ne_coor = {'postcode': pc_ne_list,'latitude': latitude_ne,'longitude':longitude_ne}\n",
    "\n",
    "## Creating a dataframe to merge with df1\n",
    "mapping_ne_df = pd.DataFrame(dict_ne_coor)"
   ],
   "metadata": {
    "collapsed": false
   }
  },
  {
   "cell_type": "code",
   "execution_count": 35,
   "outputs": [],
   "source": [
    "## Creating a dictionary with the postcode, latitude and longitude\n",
    "dict_su_coor = {'postcode': pc_su_list,'latitude': latitude_su,'longitude':longitude_su}\n",
    "\n",
    "## Creating a dataframe to merge with df1\n",
    "mapping_su_df = pd.DataFrame(dict_su_coor)"
   ],
   "metadata": {
    "collapsed": false
   }
  },
  {
   "cell_type": "code",
   "execution_count": 36,
   "outputs": [],
   "source": [
    "## Creating a dictionary with the postcode, latitude and longitude\n",
    "dict_mi_coor = {'postcode': pc_mi_list,'latitude': latitude_mi,'longitude':longitude_mi}\n",
    "\n",
    "## Creating a dataframe to merge with df1\n",
    "mapping_mi_df = pd.DataFrame(dict_mi_coor)"
   ],
   "metadata": {
    "collapsed": false
   }
  },
  {
   "cell_type": "code",
   "execution_count": 37,
   "outputs": [],
   "source": [
    "## Function to loop through the longitude and latitude columns and calculate the distance from them\n",
    "# to the centre_coor (centre_coor is the long and lat of the town centre)\n",
    "\n",
    "def pc_ne_dist(lat,long):\n",
    "\n",
    "    centre_coor = (54.967517, -1.615484)\n",
    "\n",
    "    return (geopy.distance.geodesic(centre_coor, (lat,long)).km)"
   ],
   "metadata": {
    "collapsed": false
   }
  },
  {
   "cell_type": "code",
   "execution_count": 38,
   "outputs": [],
   "source": [
    "## Function to loop through the longitude and latitude columns and calculate the distance from them\n",
    "# to the centre_coor (centre_coor is the long and lat of the town centre)\n",
    "\n",
    "def pc_su_dist(lat,long):\n",
    "\n",
    "    centre_coor = (54.908542, -1.379728)\n",
    "\n",
    "    return (geopy.distance.geodesic(centre_coor, (lat,long)).km)"
   ],
   "metadata": {
    "collapsed": false
   }
  },
  {
   "cell_type": "code",
   "execution_count": 39,
   "outputs": [],
   "source": [
    "## Function to loop through the longitude and latitude columns and calculate the distance from them\n",
    "# to the centre_coor (centre_coor is the long and lat of the town centre)\n",
    "\n",
    "def pc_mi_dist(lat,long):\n",
    "\n",
    "    centre_coor = (54.575852, -1.244942)\n",
    "\n",
    "    return (geopy.distance.geodesic(centre_coor, (lat,long)).km)"
   ],
   "metadata": {
    "collapsed": false
   }
  },
  {
   "cell_type": "code",
   "execution_count": 40,
   "outputs": [],
   "source": [
    "### ## Applying the function to my df1 to create a 'distance' column\n",
    "# merging each dataframe together\n",
    "mapping_ne_df['distance'] = mapping_ne_df[['latitude','longitude']].apply(lambda x: pc_ne_dist(x['latitude'],x['longitude']), axis = 1)\n",
    "mapping_su_df['distance'] = mapping_su_df[['latitude','longitude']].apply(lambda x: pc_su_dist(x['latitude'],x['longitude']), axis = 1)\n",
    "mapping_mi_df['distance'] = mapping_mi_df[['latitude','longitude']].apply(lambda x: pc_mi_dist(x['latitude'],x['longitude']), axis = 1)\n",
    "\n",
    "mapping_df = pd.concat([mapping_ne_df,mapping_su_df,mapping_mi_df])"
   ],
   "metadata": {
    "collapsed": false
   }
  },
  {
   "cell_type": "code",
   "execution_count": 41,
   "outputs": [],
   "source": [
    "## Merging the mapping_df with the original df1 to give each postcode a long and lat\n",
    "df1 = df1.merge(mapping_df, how = 'left', on = 'postcode')"
   ],
   "metadata": {
    "collapsed": false
   }
  },
  {
   "cell_type": "code",
   "execution_count": 42,
   "outputs": [
    {
     "data": {
      "text/plain": "       price              house_type bedroom  property_no postcode  latitude  \\\n0     196000           Semi-Detached      ×3            1     NE20  55.06467   \n1     389995                Detached      ×4            2      NE3  55.00622   \n2     350000                Detached      ×4            3     NE23  55.09966   \n3     200000           Semi-Detached      ×3            4      NE9  54.94586   \n4     335995                   House      ×4            5     NE23  55.09966   \n...      ...                     ...     ...          ...      ...       ...   \n3027   20000              Maisonette      ×2         5010     NE38  54.90152   \n3028   95000                Terraced      ×2         5011      SR1  54.90546   \n3029  150000           Semi-Detached      ×2         5012     NE38  54.90152   \n3030  180000              Town House      ×4         5015     NE38  54.90152   \n3031  299950  Semi-Detached Bungalow      ×2         5016      SR6  54.91147   \n\n      longitude   distance  \n0      -1.75250  13.920984  \n1      -1.61665   4.309192  \n2      -1.59675  14.759397  \n3      -1.59928   2.624904  \n4      -1.59675  14.759397  \n...         ...        ...  \n3027   -1.55234   8.388036  \n3028   -1.38168   0.365226  \n3029   -1.55234   8.388036  \n3030   -1.55234   8.388036  \n3031   -1.38202   0.357566  \n\n[3032 rows x 8 columns]",
      "text/html": "<div>\n<style scoped>\n    .dataframe tbody tr th:only-of-type {\n        vertical-align: middle;\n    }\n\n    .dataframe tbody tr th {\n        vertical-align: top;\n    }\n\n    .dataframe thead th {\n        text-align: right;\n    }\n</style>\n<table border=\"1\" class=\"dataframe\">\n  <thead>\n    <tr style=\"text-align: right;\">\n      <th></th>\n      <th>price</th>\n      <th>house_type</th>\n      <th>bedroom</th>\n      <th>property_no</th>\n      <th>postcode</th>\n      <th>latitude</th>\n      <th>longitude</th>\n      <th>distance</th>\n    </tr>\n  </thead>\n  <tbody>\n    <tr>\n      <th>0</th>\n      <td>196000</td>\n      <td>Semi-Detached</td>\n      <td>×3</td>\n      <td>1</td>\n      <td>NE20</td>\n      <td>55.06467</td>\n      <td>-1.75250</td>\n      <td>13.920984</td>\n    </tr>\n    <tr>\n      <th>1</th>\n      <td>389995</td>\n      <td>Detached</td>\n      <td>×4</td>\n      <td>2</td>\n      <td>NE3</td>\n      <td>55.00622</td>\n      <td>-1.61665</td>\n      <td>4.309192</td>\n    </tr>\n    <tr>\n      <th>2</th>\n      <td>350000</td>\n      <td>Detached</td>\n      <td>×4</td>\n      <td>3</td>\n      <td>NE23</td>\n      <td>55.09966</td>\n      <td>-1.59675</td>\n      <td>14.759397</td>\n    </tr>\n    <tr>\n      <th>3</th>\n      <td>200000</td>\n      <td>Semi-Detached</td>\n      <td>×3</td>\n      <td>4</td>\n      <td>NE9</td>\n      <td>54.94586</td>\n      <td>-1.59928</td>\n      <td>2.624904</td>\n    </tr>\n    <tr>\n      <th>4</th>\n      <td>335995</td>\n      <td>House</td>\n      <td>×4</td>\n      <td>5</td>\n      <td>NE23</td>\n      <td>55.09966</td>\n      <td>-1.59675</td>\n      <td>14.759397</td>\n    </tr>\n    <tr>\n      <th>...</th>\n      <td>...</td>\n      <td>...</td>\n      <td>...</td>\n      <td>...</td>\n      <td>...</td>\n      <td>...</td>\n      <td>...</td>\n      <td>...</td>\n    </tr>\n    <tr>\n      <th>3027</th>\n      <td>20000</td>\n      <td>Maisonette</td>\n      <td>×2</td>\n      <td>5010</td>\n      <td>NE38</td>\n      <td>54.90152</td>\n      <td>-1.55234</td>\n      <td>8.388036</td>\n    </tr>\n    <tr>\n      <th>3028</th>\n      <td>95000</td>\n      <td>Terraced</td>\n      <td>×2</td>\n      <td>5011</td>\n      <td>SR1</td>\n      <td>54.90546</td>\n      <td>-1.38168</td>\n      <td>0.365226</td>\n    </tr>\n    <tr>\n      <th>3029</th>\n      <td>150000</td>\n      <td>Semi-Detached</td>\n      <td>×2</td>\n      <td>5012</td>\n      <td>NE38</td>\n      <td>54.90152</td>\n      <td>-1.55234</td>\n      <td>8.388036</td>\n    </tr>\n    <tr>\n      <th>3030</th>\n      <td>180000</td>\n      <td>Town House</td>\n      <td>×4</td>\n      <td>5015</td>\n      <td>NE38</td>\n      <td>54.90152</td>\n      <td>-1.55234</td>\n      <td>8.388036</td>\n    </tr>\n    <tr>\n      <th>3031</th>\n      <td>299950</td>\n      <td>Semi-Detached Bungalow</td>\n      <td>×2</td>\n      <td>5016</td>\n      <td>SR6</td>\n      <td>54.91147</td>\n      <td>-1.38202</td>\n      <td>0.357566</td>\n    </tr>\n  </tbody>\n</table>\n<p>3032 rows × 8 columns</p>\n</div>"
     },
     "execution_count": 42,
     "metadata": {},
     "output_type": "execute_result"
    }
   ],
   "source": [
    "df1"
   ],
   "metadata": {
    "collapsed": false
   }
  },
  {
   "cell_type": "markdown",
   "source": [
    "<font size=\"6\"><font color='orange'>Start of data cleaning on the 'house_type' column</font>"
   ],
   "metadata": {
    "collapsed": false
   }
  },
  {
   "cell_type": "code",
   "execution_count": 56,
   "outputs": [],
   "source": [
    "## Removing the values that were scraped incorrectly (these x values refer to the bedroom number I believe)\n",
    "## Removing the 'plot', as this isn't a house\n",
    "## Removing the 'lodge', as these aren't brick buildings so may mess with the model\n",
    "## Removing the 'Retirement Property', as this isn't a house\n",
    "df1 = df1[df1['house_type'] != '×4']\n",
    "df1 = df1[df1['house_type'] != '×2']\n",
    "df1 = df1[df1['house_type'] != '×3']\n",
    "df1 = df1[df1['house_type'] != '×9']\n",
    "df1 = df1[df1['house_type'] != '×22']\n",
    "df1 = df1[df1['house_type'] != 'Plot']\n",
    "df1 = df1[df1['house_type'] != 'Lodge']\n",
    "df1 = df1[df1['house_type'] != 'Retirement Property']\n",
    "df1 = df1[df1['house_type'] != 'Flat']\n",
    "df1 = df1[df1['house_type'] != 'Bungalow']\n",
    "df1 = df1[df1['house_type'] != 'Apartment']\n",
    "df1 = df1[df1['house_type'] != 'Detached Bungalow']\n",
    "df1 = df1[df1['house_type'] != 'Semi-Detached Bungalow']\n",
    "df1 = df1[df1['house_type'] != 'Ground Flat']\n",
    "df1 = df1[df1['house_type'] != 'Terraced Bungalow']\n",
    "df1 = df1[df1['house_type'] != 'Park Home']\n",
    "df1 = df1[df1['house_type'] != 'Land']\n",
    "df1 = df1[df1['house_type'] != 'Block of Apartments']\n",
    "df1 = df1[df1['house_type'] != '2,982 sq. ft.(277 sq. m.)']\n",
    "df1 = df1[df1['house_type'] != 'Semi-Detached Share']"
   ],
   "metadata": {
    "collapsed": false
   }
  },
  {
   "cell_type": "code",
   "execution_count": 44,
   "outputs": [],
   "source": [
    "## Changing the two 'Mews' properties to what house type they actually are\n",
    "df1.loc[848, 'house_type'] = 'Terraced'\n",
    "df1.loc[870, 'house_type'] = 'Semi-Detached'"
   ],
   "metadata": {
    "collapsed": false
   }
  },
  {
   "cell_type": "code",
   "execution_count": 45,
   "outputs": [
    {
     "data": {
      "text/plain": "Empty DataFrame\nColumns: [price, house_type, bedroom, property_no, postcode, latitude, longitude, distance]\nIndex: []",
      "text/html": "<div>\n<style scoped>\n    .dataframe tbody tr th:only-of-type {\n        vertical-align: middle;\n    }\n\n    .dataframe tbody tr th {\n        vertical-align: top;\n    }\n\n    .dataframe thead th {\n        text-align: right;\n    }\n</style>\n<table border=\"1\" class=\"dataframe\">\n  <thead>\n    <tr style=\"text-align: right;\">\n      <th></th>\n      <th>price</th>\n      <th>house_type</th>\n      <th>bedroom</th>\n      <th>property_no</th>\n      <th>postcode</th>\n      <th>latitude</th>\n      <th>longitude</th>\n      <th>distance</th>\n    </tr>\n  </thead>\n  <tbody>\n  </tbody>\n</table>\n</div>"
     },
     "execution_count": 45,
     "metadata": {},
     "output_type": "execute_result"
    }
   ],
   "source": [
    "df1[df1['house_type'] == 'Mews']"
   ],
   "metadata": {
    "collapsed": false
   }
  },
  {
   "cell_type": "code",
   "execution_count": 46,
   "outputs": [],
   "source": [
    "## I double-checked what house type best fits each of these properties changing everything to either a;\n",
    "# 'Detached', 'Semi-Detached' or 'Terraced' house\n",
    "def clean_house (df):\n",
    "\n",
    "    df = df.replace('Stone House', 'Detached')\n",
    "    df = df.replace('Character Property', 'Semi-Detached')\n",
    "    df = df.replace('Cottage', 'Detached')\n",
    "    df = df.replace('Barn Conversion', 'Detached')\n",
    "    df = df.replace('Link Detached House', 'Detached')\n",
    "    df = df.replace('Town House', 'Semi-Detached')\n",
    "    df = df.replace('End of Terrace', 'Semi-Detached')\n",
    "    df = df.replace('House', 'Semi-Detached')\n",
    "    df = df.replace('Farm Semi-Detached', 'Semi-Detached')\n",
    "    df = df.replace('Country Semi-Detached', 'Semi-Detached')\n",
    "    df = df.replace('End of Terrace', 'Semi-Detached')\n",
    "    df = df.replace('House', 'Semi-Detached')\n",
    "    df = df.replace('Maisonette', 'Terraced')\n",
    "    df = df.replace('Detached Villa', 'Detached')\n",
    "\n",
    "    return df"
   ],
   "metadata": {
    "collapsed": false
   }
  },
  {
   "cell_type": "code",
   "execution_count": 47,
   "outputs": [],
   "source": [
    "## Applying the function\n",
    "df1['house_type'] = df1['house_type'].apply(clean_house)"
   ],
   "metadata": {
    "collapsed": false
   }
  },
  {
   "cell_type": "code",
   "execution_count": 57,
   "outputs": [
    {
     "data": {
      "text/plain": "Semi-Detached    1298\nDetached          750\nTerraced          623\nName: house_type, dtype: int64"
     },
     "execution_count": 57,
     "metadata": {},
     "output_type": "execute_result"
    }
   ],
   "source": [
    "## Checking the unique values left in the house_type column\n",
    "df1['house_type'].value_counts()"
   ],
   "metadata": {
    "collapsed": false
   }
  },
  {
   "cell_type": "markdown",
   "source": [
    "<font size=\"6\"><font color='orange'>Start of data cleaning on the 'bedroom' column</font>"
   ],
   "metadata": {
    "collapsed": false
   }
  },
  {
   "cell_type": "code",
   "execution_count": 49,
   "outputs": [],
   "source": [
    "## This function removes the '×' character\n",
    "def clean_bed (df):\n",
    "\n",
    "    df = df.replace('×','')\n",
    "\n",
    "    return df"
   ],
   "metadata": {
    "collapsed": false
   }
  },
  {
   "cell_type": "code",
   "execution_count": 50,
   "outputs": [],
   "source": [
    "## Applying the function\n",
    "df1['bedroom'] = df1['bedroom'].apply(clean_bed)"
   ],
   "metadata": {
    "collapsed": false
   }
  },
  {
   "cell_type": "code",
   "execution_count": 51,
   "outputs": [],
   "source": [
    "## Removing any properties that have 'Ask agent' or 'Freehold' in this column as they just were not\n",
    "# successfully web scraped\n",
    "df1 = df1[df1['bedroom'] != 'Ask agent']\n",
    "df1 = df1[df1['bedroom'] != 'Freehold']\n",
    "df1 = df1[df1['bedroom'] != '11']\n",
    "df1 = df1[df1['bedroom'] != '12']\n",
    "df1 = df1[df1['bedroom'] != '22']\n",
    "df1 = df1[df1['bedroom'] != '26']"
   ],
   "metadata": {
    "collapsed": false
   }
  },
  {
   "cell_type": "code",
   "execution_count": 52,
   "outputs": [],
   "source": [
    "## Changing the bedroom column to an integer type\n",
    "df1['bedroom'] = df1['bedroom'].astype('int')"
   ],
   "metadata": {
    "collapsed": false
   }
  },
  {
   "cell_type": "code",
   "execution_count": 53,
   "outputs": [
    {
     "data": {
      "text/plain": "3    1290\n4     678\n2     461\n5     163\n6      42\n1      22\n7       9\n8       5\n9       2\nName: bedroom, dtype: int64"
     },
     "execution_count": 53,
     "metadata": {},
     "output_type": "execute_result"
    }
   ],
   "source": [
    "## Checking the unique values left in the bedroom column\n",
    "df1['bedroom'].value_counts()"
   ],
   "metadata": {
    "collapsed": false
   }
  },
  {
   "cell_type": "code",
   "execution_count": 54,
   "outputs": [
    {
     "data": {
      "text/plain": "              price      bedroom  property_no     latitude    longitude  \\\ncount  2.672000e+03  2672.000000  2672.000000  2672.000000  2672.000000   \nmean   2.533974e+05     3.261228  1881.664296    54.878393    -1.473568   \nstd    2.257823e+05     0.951002  1346.190647     0.193532     0.190438   \nmin    2.000000e+04     1.000000     1.000000    54.454270    -2.088820   \n25%    1.300000e+05     3.000000   806.750000    54.682480    -1.616650   \n50%    2.000000e+05     3.000000  1657.500000    54.960530    -1.487093   \n75%    3.000000e+05     4.000000  2597.250000    55.006220    -1.341780   \nmax    3.950000e+06     9.000000  5015.000000    55.182780    -0.973980   \n\n          distance  \ncount  2672.000000  \nmean      7.604685  \nstd       5.041167  \nmin       0.000048  \n25%       3.889935  \n50%       7.048287  \n75%      12.167572  \nmax      30.314963  ",
      "text/html": "<div>\n<style scoped>\n    .dataframe tbody tr th:only-of-type {\n        vertical-align: middle;\n    }\n\n    .dataframe tbody tr th {\n        vertical-align: top;\n    }\n\n    .dataframe thead th {\n        text-align: right;\n    }\n</style>\n<table border=\"1\" class=\"dataframe\">\n  <thead>\n    <tr style=\"text-align: right;\">\n      <th></th>\n      <th>price</th>\n      <th>bedroom</th>\n      <th>property_no</th>\n      <th>latitude</th>\n      <th>longitude</th>\n      <th>distance</th>\n    </tr>\n  </thead>\n  <tbody>\n    <tr>\n      <th>count</th>\n      <td>2.672000e+03</td>\n      <td>2672.000000</td>\n      <td>2672.000000</td>\n      <td>2672.000000</td>\n      <td>2672.000000</td>\n      <td>2672.000000</td>\n    </tr>\n    <tr>\n      <th>mean</th>\n      <td>2.533974e+05</td>\n      <td>3.261228</td>\n      <td>1881.664296</td>\n      <td>54.878393</td>\n      <td>-1.473568</td>\n      <td>7.604685</td>\n    </tr>\n    <tr>\n      <th>std</th>\n      <td>2.257823e+05</td>\n      <td>0.951002</td>\n      <td>1346.190647</td>\n      <td>0.193532</td>\n      <td>0.190438</td>\n      <td>5.041167</td>\n    </tr>\n    <tr>\n      <th>min</th>\n      <td>2.000000e+04</td>\n      <td>1.000000</td>\n      <td>1.000000</td>\n      <td>54.454270</td>\n      <td>-2.088820</td>\n      <td>0.000048</td>\n    </tr>\n    <tr>\n      <th>25%</th>\n      <td>1.300000e+05</td>\n      <td>3.000000</td>\n      <td>806.750000</td>\n      <td>54.682480</td>\n      <td>-1.616650</td>\n      <td>3.889935</td>\n    </tr>\n    <tr>\n      <th>50%</th>\n      <td>2.000000e+05</td>\n      <td>3.000000</td>\n      <td>1657.500000</td>\n      <td>54.960530</td>\n      <td>-1.487093</td>\n      <td>7.048287</td>\n    </tr>\n    <tr>\n      <th>75%</th>\n      <td>3.000000e+05</td>\n      <td>4.000000</td>\n      <td>2597.250000</td>\n      <td>55.006220</td>\n      <td>-1.341780</td>\n      <td>12.167572</td>\n    </tr>\n    <tr>\n      <th>max</th>\n      <td>3.950000e+06</td>\n      <td>9.000000</td>\n      <td>5015.000000</td>\n      <td>55.182780</td>\n      <td>-0.973980</td>\n      <td>30.314963</td>\n    </tr>\n  </tbody>\n</table>\n</div>"
     },
     "execution_count": 54,
     "metadata": {},
     "output_type": "execute_result"
    }
   ],
   "source": [
    "df1.describe()"
   ],
   "metadata": {
    "collapsed": false
   }
  },
  {
   "cell_type": "markdown",
   "source": [
    "<font size=\"6\"><font color='orange'>Save the clean data</font>"
   ],
   "metadata": {
    "collapsed": false
   }
  },
  {
   "cell_type": "code",
   "execution_count": 58,
   "outputs": [],
   "source": [
    "## Converting this cleaned data to a cvs so I can open it within a different notebook to perform EDA\n",
    "# I feel its cleaner this way\n",
    "df1.to_csv('cleaned_up_data.csv')"
   ],
   "metadata": {
    "collapsed": false
   }
  },
  {
   "cell_type": "code",
   "execution_count": null,
   "outputs": [],
   "source": [],
   "metadata": {
    "collapsed": false
   }
  }
 ],
 "metadata": {
  "kernelspec": {
   "display_name": "Python 3",
   "language": "python",
   "name": "python3"
  },
  "language_info": {
   "codemirror_mode": {
    "name": "ipython",
    "version": 2
   },
   "file_extension": ".py",
   "mimetype": "text/x-python",
   "name": "python",
   "nbconvert_exporter": "python",
   "pygments_lexer": "ipython2",
   "version": "2.7.6"
  }
 },
 "nbformat": 4,
 "nbformat_minor": 0
}
